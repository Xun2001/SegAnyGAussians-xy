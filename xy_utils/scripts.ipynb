{
 "cells": [
  {
   "cell_type": "markdown",
   "metadata": {},
   "source": [
    "## Copy Data"
   ]
  },
  {
   "cell_type": "code",
   "execution_count": 1,
   "metadata": {},
   "outputs": [],
   "source": [
    "import os\n",
    "import shutil\n",
    "\n",
    "\n",
    "def copy_every_fifth_jpg(source_folder, destination_folder):\n",
    "    # 如果目标文件夹不存在，则创建它\n",
    "    if not os.path.exists(destination_folder):\n",
    "        os.makedirs(destination_folder)\n",
    "    jpg_files = []\n",
    "    # 遍历源文件夹，获取所有的jpg文件\n",
    "    for root, dirs, files in os.walk(source_folder):\n",
    "        for file in files:\n",
    "            if file.lower().endswith('.jpg'):\n",
    "                jpg_files.append(os.path.join(root, file))\n",
    "\n",
    "    # 按照每5张取一张的规则进行复制\n",
    "    for index, file_path in enumerate(jpg_files):\n",
    "        if index % 5 == 0:\n",
    "            file_name = os.path.basename(file_path)\n",
    "            destination_path = os.path.join(destination_folder, file_name)\n",
    "            shutil.copy(file_path, destination_path)\n",
    "\n",
    "\n",
    "# 示例用法，你可以根据实际情况替换下面两个文件夹路径\n",
    "source_folder = '/home/qinllgroup/hongxiangyu/self_project/SegAnyGAussians-xy/data/fruit_1015/images'\n",
    "destination_folder = '/home/qinllgroup/hongxiangyu/self_project/SegAnyGAussians-xy/data/fruit_seg/images'\n",
    "copy_every_fifth_jpg(source_folder, destination_folder)"
   ]
  },
  {
   "cell_type": "markdown",
   "metadata": {},
   "source": [
    "## Prepare Data"
   ]
  },
  {
   "cell_type": "code",
   "execution_count": null,
   "metadata": {},
   "outputs": [],
   "source": [
    "python train_scene.py -s /home/qinllgroup/hongxiangyu/self_project/SegAnyGAussians-xy/data/fruit_seg_resize"
   ]
  },
  {
   "cell_type": "code",
   "execution_count": null,
   "metadata": {},
   "outputs": [],
   "source": [
    "CUDA_VISIBLE_DEVICES=0 \\\n",
    "python extract_segment_everything_masks.py \\\n",
    "--image_root ~/self_project/SegAnyGAussians-xy/data/fruit_seg_resize \\\n",
    "--sam_checkpoint_path ~/self_project/SegAnyGAussians-xy/third_party/segment-anything/sam_ckpt/sam_vit_h_4b8939.pth \\\n",
    "--downsample 1"
   ]
  },
  {
   "cell_type": "code",
   "execution_count": null,
   "metadata": {},
   "outputs": [],
   "source": [
    "CUDA_VISIBLE_DEVICES=1 \\\n",
    "python get_scale.py --image_root ~/self_project/SegAnyGAussians-xy/data/fruit_seg_resize \\\n",
    "--model_path ~/self_project/SegAnyGAussians-xy/output/fruit_seg_resize"
   ]
  },
  {
   "cell_type": "code",
   "execution_count": null,
   "metadata": {},
   "outputs": [],
   "source": [
    "CUDA_VISIBLE_DEVICES=1 \\\n",
    "python train_contrastive_feature.py -m ~/self_project/SegAnyGAussians-xy/output/fruit_seg --iterations 10000 --num_sampled_rays 1000"
   ]
  },
  {
   "cell_type": "code",
   "execution_count": null,
   "metadata": {},
   "outputs": [],
   "source": [
    "CUDA_VISIBLE_DEVICES=1 \\\n",
    "python saga_gui.py --model_path ~/self_project/SegAnyGAussians-xy/output/fruit_seg_resize"
   ]
  }
 ],
 "metadata": {
  "kernelspec": {
   "display_name": "env_lod",
   "language": "python",
   "name": "python3"
  },
  "language_info": {
   "name": "python",
   "version": "3.7.16"
  }
 },
 "nbformat": 4,
 "nbformat_minor": 2
}
